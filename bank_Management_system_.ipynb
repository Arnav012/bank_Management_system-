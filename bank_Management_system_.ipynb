{
  "nbformat": 4,
  "nbformat_minor": 0,
  "metadata": {
    "colab": {
      "provenance": []
    },
    "kernelspec": {
      "name": "python3",
      "display_name": "Python 3"
    },
    "language_info": {
      "name": "python"
    }
  },
  "cells": [
    {
      "cell_type": "code",
      "execution_count": null,
      "metadata": {
        "colab": {
          "base_uri": "https://localhost:8080/"
        },
        "id": "7tFZ_LhUuNxN",
        "outputId": "44c939d7-1710-4c14-de69-5aca99d85d13"
      },
      "outputs": [
        {
          "output_type": "stream",
          "name": "stdout",
          "text": [
            "Looking in indexes: https://pypi.org/simple, https://us-python.pkg.dev/colab-wheels/public/simple/\n",
            "\u001b[31mERROR: Could not find a version that satisfies the requirement sqlite3 (from versions: none)\u001b[0m\u001b[31m\n",
            "\u001b[0m\u001b[31mERROR: No matching distribution found for sqlite3\u001b[0m\u001b[31m\n",
            "\u001b[0m"
          ]
        }
      ],
      "source": [
        "pip install sqlite3"
      ]
    },
    {
      "cell_type": "code",
      "source": [
        "import sqlite3 as db \n"
      ],
      "metadata": {
        "id": "vgi6R3arulPO"
      },
      "execution_count": null,
      "outputs": []
    },
    {
      "cell_type": "code",
      "source": [
        "def init():\n",
        " \n",
        " conn = db.connect('spent.db')\n",
        " curr = conn.cursor()\n",
        " conn.commit"
      ],
      "metadata": {
        "id": "lQxcvXMpvFO7"
      },
      "execution_count": null,
      "outputs": []
    },
    {
      "cell_type": "code",
      "source": [
        "sql ='create table if not exists expenses (amount number, category string ,date string)'"
      ],
      "metadata": {
        "id": "8U8KhXXWvVxq"
      },
      "execution_count": null,
      "outputs": []
    },
    {
      "cell_type": "code",
      "source": [
        " curr = conn.cursor()"
      ],
      "metadata": {
        "colab": {
          "base_uri": "https://localhost:8080/",
          "height": 165
        },
        "id": "JA0LQOL3v-uj",
        "outputId": "32c3f789-52d6-4bca-995f-aa79cfa92b6a"
      },
      "execution_count": null,
      "outputs": [
        {
          "output_type": "error",
          "ename": "NameError",
          "evalue": "ignored",
          "traceback": [
            "\u001b[0;31m---------------------------------------------------------------------------\u001b[0m",
            "\u001b[0;31mNameError\u001b[0m                                 Traceback (most recent call last)",
            "\u001b[0;32m<ipython-input-9-415d433b3411>\u001b[0m in \u001b[0;36m<module>\u001b[0;34m\u001b[0m\n\u001b[0;32m----> 1\u001b[0;31m \u001b[0mcurr\u001b[0m \u001b[0;34m=\u001b[0m \u001b[0mconn\u001b[0m\u001b[0;34m.\u001b[0m\u001b[0mcursor\u001b[0m\u001b[0;34m(\u001b[0m\u001b[0;34m)\u001b[0m\u001b[0;34m\u001b[0m\u001b[0;34m\u001b[0m\u001b[0m\n\u001b[0m",
            "\u001b[0;31mNameError\u001b[0m: name 'conn' is not defined"
          ]
        }
      ]
    },
    {
      "cell_type": "code",
      "source": [
        "#PARENT_CLASS\n",
        "\n",
        " class User():\n",
        "   def __init__(self,name,age,gender):\n",
        "       self.name = name\n",
        "       self.age = age\n",
        "       self.gender = gender\n",
        "   def show_details(self):\n",
        "     print('Personal details')\n",
        "     print('')\n",
        "     print('Name',self.name)\n",
        "     print('Age',self.age)\n",
        "     print('Gender',self.gender)"
      ],
      "metadata": {
        "id": "TvSi3w51wSf5"
      },
      "execution_count": null,
      "outputs": []
    },
    {
      "cell_type": "code",
      "source": [
        "Arnav = User('Arnav',21,'Male')"
      ],
      "metadata": {
        "id": "9kzWsf1RzSjw"
      },
      "execution_count": null,
      "outputs": []
    },
    {
      "cell_type": "code",
      "source": [
        "Arnav.show_details()"
      ],
      "metadata": {
        "colab": {
          "base_uri": "https://localhost:8080/"
        },
        "id": "UyIVgvYLzh2p",
        "outputId": "7b2e8568-14e1-4ae3-8571-6bff0cf9a8bf"
      },
      "execution_count": null,
      "outputs": [
        {
          "output_type": "stream",
          "name": "stdout",
          "text": [
            "Personal details\n",
            "\n",
            "Name Arnav\n",
            "Age 21\n",
            "Gender Male\n"
          ]
        }
      ]
    },
    {
      "cell_type": "code",
      "source": [
        "#CHILD_CLASS\n",
        "class Bank(User):\n",
        "  def __init__(self, name, age, gender):\n",
        "    super().__init__(name, age, gender)\n",
        "    self.balence = 0\n",
        "\n",
        "  def credit(self,amount):\n",
        "   self.amount = amount\n",
        "   self.balence = self.balence + self.amount\n",
        "   print('Account balence :',self.balence)\n",
        "  "
      ],
      "metadata": {
        "id": "I6QWdjnCzsGP"
      },
      "execution_count": null,
      "outputs": []
    },
    {
      "cell_type": "code",
      "source": [],
      "metadata": {
        "id": "TURGKK7h1n0K"
      },
      "execution_count": null,
      "outputs": []
    },
    {
      "cell_type": "code",
      "source": [
        "Arnav.gender"
      ],
      "metadata": {
        "colab": {
          "base_uri": "https://localhost:8080/",
          "height": 35
        },
        "id": "WsxBAS301M2h",
        "outputId": "1aa79bdc-3db6-42ab-ec21-8728ecb0b77d"
      },
      "execution_count": null,
      "outputs": [
        {
          "output_type": "execute_result",
          "data": {
            "text/plain": [
              "'Male'"
            ],
            "application/vnd.google.colaboratory.intrinsic+json": {
              "type": "string"
            }
          },
          "metadata": {},
          "execution_count": 16
        }
      ]
    },
    {
      "cell_type": "code",
      "source": [],
      "metadata": {
        "id": "LNyqwSZS1VT4"
      },
      "execution_count": null,
      "outputs": []
    },
    {
      "cell_type": "code",
      "source": [],
      "metadata": {
        "colab": {
          "base_uri": "https://localhost:8080/",
          "height": 165
        },
        "id": "go0ceeoM5qF3",
        "outputId": "0dfe817e-9b46-4e5d-d57b-a5bbaf2b219a"
      },
      "execution_count": null,
      "outputs": [
        {
          "output_type": "error",
          "ename": "AttributeError",
          "evalue": "ignored",
          "traceback": [
            "\u001b[0;31m---------------------------------------------------------------------------\u001b[0m",
            "\u001b[0;31mAttributeError\u001b[0m                            Traceback (most recent call last)",
            "\u001b[0;32m<ipython-input-22-aa37207df0f4>\u001b[0m in \u001b[0;36m<module>\u001b[0;34m\u001b[0m\n\u001b[0;32m----> 1\u001b[0;31m \u001b[0mArnav\u001b[0m\u001b[0;34m.\u001b[0m\u001b[0mdeposit\u001b[0m\u001b[0;34m(\u001b[0m\u001b[0;36m100\u001b[0m\u001b[0;34m)\u001b[0m\u001b[0;34m\u001b[0m\u001b[0;34m\u001b[0m\u001b[0m\n\u001b[0m",
            "\u001b[0;31mAttributeError\u001b[0m: 'User' object has no attribute 'deposit'"
          ]
        }
      ]
    },
    {
      "cell_type": "code",
      "source": [
        "Arnav.credit(100)"
      ],
      "metadata": {
        "colab": {
          "base_uri": "https://localhost:8080/",
          "height": 165
        },
        "id": "7hm2NZ835_Fk",
        "outputId": "33d5cdd9-97b6-47b6-9c29-43a6afba531b"
      },
      "execution_count": null,
      "outputs": [
        {
          "output_type": "error",
          "ename": "AttributeError",
          "evalue": "ignored",
          "traceback": [
            "\u001b[0;31m---------------------------------------------------------------------------\u001b[0m",
            "\u001b[0;31mAttributeError\u001b[0m                            Traceback (most recent call last)",
            "\u001b[0;32m<ipython-input-27-995147d73a72>\u001b[0m in \u001b[0;36m<module>\u001b[0;34m\u001b[0m\n\u001b[0;32m----> 1\u001b[0;31m \u001b[0mArnav\u001b[0m\u001b[0;34m.\u001b[0m\u001b[0mcredit\u001b[0m\u001b[0;34m(\u001b[0m\u001b[0;36m100\u001b[0m\u001b[0;34m)\u001b[0m\u001b[0;34m\u001b[0m\u001b[0;34m\u001b[0m\u001b[0m\n\u001b[0m",
            "\u001b[0;31mAttributeError\u001b[0m: 'User' object has no attribute 'credit'"
          ]
        }
      ]
    },
    {
      "cell_type": "code",
      "source": [
        "Arnav = User('Arnav',21,'Male')"
      ],
      "metadata": {
        "id": "V_6vwpW67D9t"
      },
      "execution_count": null,
      "outputs": []
    },
    {
      "cell_type": "code",
      "source": [
        "Arnav.credit(100)"
      ],
      "metadata": {
        "colab": {
          "base_uri": "https://localhost:8080/",
          "height": 165
        },
        "id": "lolhSzhk7VBt",
        "outputId": "09d26526-df2e-4c53-d257-c88e6f48088c"
      },
      "execution_count": null,
      "outputs": [
        {
          "output_type": "error",
          "ename": "AttributeError",
          "evalue": "ignored",
          "traceback": [
            "\u001b[0;31m---------------------------------------------------------------------------\u001b[0m",
            "\u001b[0;31mAttributeError\u001b[0m                            Traceback (most recent call last)",
            "\u001b[0;32m<ipython-input-29-995147d73a72>\u001b[0m in \u001b[0;36m<module>\u001b[0;34m\u001b[0m\n\u001b[0;32m----> 1\u001b[0;31m \u001b[0mArnav\u001b[0m\u001b[0;34m.\u001b[0m\u001b[0mcredit\u001b[0m\u001b[0;34m(\u001b[0m\u001b[0;36m100\u001b[0m\u001b[0;34m)\u001b[0m\u001b[0;34m\u001b[0m\u001b[0;34m\u001b[0m\u001b[0m\n\u001b[0m",
            "\u001b[0;31mAttributeError\u001b[0m: 'User' object has no attribute 'credit'"
          ]
        }
      ]
    },
    {
      "cell_type": "code",
      "source": [
        "def withdraw(self,amount)\n",
        "  self.amount=amount\n",
        "  if(self.amount > self.balence):\n",
        "    print('Insufficient funds | Balence available :',self.Balence)"
      ],
      "metadata": {
        "id": "Syzc2Rzg7YtH"
      },
      "execution_count": null,
      "outputs": []
    }
  ]
}